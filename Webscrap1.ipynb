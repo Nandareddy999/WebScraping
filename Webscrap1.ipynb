{
 "cells": [
  {
   "cell_type": "code",
   "execution_count": 2,
   "metadata": {},
   "outputs": [
    {
     "ename": "ModuleNotFoundError",
     "evalue": "No module named 'requests'",
     "output_type": "error",
     "traceback": [
      "\u001b[1;31m---------------------------------------------------------------------------\u001b[0m",
      "\u001b[1;31mModuleNotFoundError\u001b[0m                       Traceback (most recent call last)",
      "Cell \u001b[1;32mIn[2], line 1\u001b[0m\n\u001b[1;32m----> 1\u001b[0m \u001b[38;5;28;01mimport\u001b[39;00m \u001b[38;5;21;01mrequests\u001b[39;00m\n\u001b[0;32m      2\u001b[0m \u001b[38;5;28;01mimport\u001b[39;00m \u001b[38;5;21;01mre\u001b[39;00m\n\u001b[0;32m      4\u001b[0m session \u001b[38;5;241m=\u001b[39m requests\u001b[38;5;241m.\u001b[39msession()\n",
      "\u001b[1;31mModuleNotFoundError\u001b[0m: No module named 'requests'"
     ]
    }
   ],
   "source": [
    "import requests\n",
    "import re\n",
    "\n",
    "session = requests.session()\n",
    "mainurl = \"https://www.fielmann.de/\"\n",
    "Homepage = session.get(mainurl)\n",
    "with open(\"mainpage.html\", \"w\", encoding=\"UTF-8\") as file :\n",
    "    file.write(Homepage.text)\n",
    "\n",
    "Nextpageurl = re.findall('class=\"content pointer-events-none\".*?>\\s+(.*?)\\s+<', Homepage.text)\n",
    "\n",
    "\n",
    "Mainurldata = []\n",
    "for i in range(5):\n",
    "    Nextpageurldata = Nextpageurl[i].replace(\"ö\",\"o\").lower()\n",
    "    Mainurldata[i] = mainurl+Nextpageurldata\n",
    "j=1\n",
    "for i in range(Mainurldata):\n",
    "    Individualpagedata = session.get(i)\n",
    "    print(Individualpagedata.content)"
   ]
  },
  {
   "cell_type": "code",
   "execution_count": null,
   "metadata": {},
   "outputs": [],
   "source": []
  }
 ],
 "metadata": {
  "kernelspec": {
   "display_name": "Python 3 (ipykernel)",
   "language": "python",
   "name": "python3"
  },
  "language_info": {
   "codemirror_mode": {
    "name": "ipython",
    "version": 3
   },
   "file_extension": ".py",
   "mimetype": "text/x-python",
   "name": "python",
   "nbconvert_exporter": "python",
   "pygments_lexer": "ipython3",
   "version": "3.11.0"
  }
 },
 "nbformat": 4,
 "nbformat_minor": 4
}
