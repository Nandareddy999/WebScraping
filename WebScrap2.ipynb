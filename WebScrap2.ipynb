{
 "cells": [
  {
   "cell_type": "code",
   "execution_count": 1,
   "id": "0eff7420-b42c-42aa-a24b-4057c84315ff",
   "metadata": {},
   "outputs": [
    {
     "name": "stdout",
     "output_type": "stream",
     "text": [
      "None\n"
     ]
    }
   ],
   "source": [
    "import requests\n",
    "from bs4 import BeautifulSoup\n",
    "session = requests.session()\n",
    "\n",
    "r = session.get(\"https://cado.eservices.gov.nl.ca/CadoInternet/Main.aspx\")\n",
    "\n",
    "soap = BeautifulSoup(r.text,'html.parser')\n",
    "\n",
    "viewstate = soap.find('input', attrs={'name' : '__VIEWSTATE'})\n",
    "print(viewstate)"
   ]
  },
  {
   "cell_type": "code",
   "execution_count": null,
   "id": "4e752010-2983-4a06-8c09-8498aa093ee5",
   "metadata": {},
   "outputs": [],
   "source": []
  }
 ],
 "metadata": {
  "kernelspec": {
   "display_name": "Python 3 (ipykernel)",
   "language": "python",
   "name": "python3"
  },
  "language_info": {
   "codemirror_mode": {
    "name": "ipython",
    "version": 3
   },
   "file_extension": ".py",
   "mimetype": "text/x-python",
   "name": "python",
   "nbconvert_exporter": "python",
   "pygments_lexer": "ipython3",
   "version": "3.10.0"
  }
 },
 "nbformat": 4,
 "nbformat_minor": 5
}
