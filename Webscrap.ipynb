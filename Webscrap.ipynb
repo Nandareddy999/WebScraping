{
 "cells": [
  {
   "cell_type": "code",
   "execution_count": 1,
   "id": "392769c6-7d8f-4432-9a1b-d232555136f5",
   "metadata": {},
   "outputs": [],
   "source": [
    "import requests\n",
    "session = requests.session()\n",
    "header = {\n",
    "    \"Accept\": \"text/html,application/xhtml+xml,application/xml;q=0.9,image/avif,image/webp,image/apng,*/*;q=0.8,application/signed-exchange;v=b3;q=0.7\",\n",
    "    \"Accept-Encoding\": \"gzip, deflate, br\",\n",
    "    \"Accept-Language\": \"en-US,en;q=0.9\",\n",
    "    \"Cache-Control\": \"max-age=0\",\n",
    "    \"Connection\": \"keep-alive\",\n",
    "    # \"Cookie\": \"ASP.NET_SessionId=a20txo45ppeksfjfkjdgv2if; cookiesession1=678B288EB4983C9B1C80D18311A3515D\",\n",
    "    \"Host\": \"cado.eservices.gov.nl.ca\",\n",
    "    \"Referer\": \"https://statics.teams.cdn.office.net/\",\n",
    "    \"Sec-Fetch-Dest\": \"document\",\n",
    "    \"Sec-Fetch-Mode\": \"navigate\",\n",
    "    \"Sec-Fetch-Site\": \"cross-site\",\n",
    "    \"Sec-Fetch-User\": \"?1\",\n",
    "    \"Upgrade-Insecure-Requests\": \"1\",\n",
    "    \"User-Agent\": \"Mozilla/5.0 (Linux; Android 6.0; Nexus 5 Build/MRA58N) AppleWebKit/537.36 (KHTML, like Gecko) Chrome/121.0.0.0 Mobile Safari/537.36 Edg/121.0.0.0\",\n",
    "    # \"sec-ch-ua\": \"Not A(Brand\";v=\"99\", \"Microsoft Edge\";v=\"121\", \"Chromium\";v=\"121\",\n",
    "    # \"sec-ch-ua-mobile\": \"?1\",\n",
    "    # \"sec-ch-ua-platform\": \"Android\"\n",
    "}\n",
    "\n",
    "payload = {\n",
    "    \"__VIEWSTATE\": \"i+NPalXiMvrHUEPnRGj9aN/7F07DeP2Y9WGEMHko2wzk6DD16Xb+i9GKjN75IN+CS8+8vZQKwGnmUslBpELRyXoyIwgIj5eHFNdGwpJQAbv2ooCq4x+V8dW+LuGHh8kKuVHkVN+4Z2Sxul2lK8RyqJXq7q/8rH2yMyY6CalAGPSqWmc29d+JVgdtuWb8F9tw6Fgnk6DgTTi3ihQQlKYCw/GtJnb8VFXV3vkXoY6CGUdZFhLp1mnEj67bqQYRLiRGssWZln3KffvLZLhS3Agwe2bk9/cM7z7PS//j1eN79TI1B5uu5BMOtAqYsH9KVGzRE3ZZkxGvM46r1e/tErC11SJQ3B8YeTGCHjRaFN2wuzY/8ei3D3zXfBQtUTP6Q7ssoKQFpPoOAFRoom7x6J4wFvIHT5S1w9aX5/h2t4dBnvwKx+2MROIVU3NfRgnnDVqlXvGl+2DxOvkaBHdZBRWUNMm8gqL7zWD2YHmabz0Zy49vXU49yprkeMrjQnJaQeEb+AgWmvlnP7u37qT+i+rBRckZDW0AXuV+E+lbjinZ0FQi/JasmHOF6qg931DyMeXqkUhCnCoNOyGgH7APblo6em1cTLPg9M+sO7oTEQaCtTQMu2iX6NCHxEqvrNgCf90UKXgTFzEj2Zb/i400olhr6+0uY3GALUJCMlIJiJPaG17svGs6OO79WhOvZXuRAsSMQHEZypjv16JAZ1S0oyRFOB7yZGym0Yb08ma0vlbEfqcjGj5/QaKluoBj4mn7X+ZYWWZkXw3RfwZYh8rnwOm6EBIE9OnINdHrgJtkLk8Ive+NxhsZ6LyITJJY1hil/YgqNKgdRddw8A2hpfscuh3TaqXvpED5BaCzJ9QUPZC4AgOYmr9lye25UYjOkfKdT5Rlb6Pr5zpUow7CRgZrm+dL4ZJ5YkI7a67/Ap9pg92Ai3bIFlOMAUa8ZfTE0e36NgFrVFlPn1ZbGP/Fo54vrmhu5nAd23StXEXscrMM63PnwexCFRrJjNr+3O9SZfFvnecnwa6Y9FZdUzmEPHFhDEEA5oH0ilsEgMSA8I8UEvIErePkbsCn3P8+aOzh+lbDMFyultUfHUslpbEYd+TSwXLkFd/vmL1YsNYQ\",\n",
    "    \"txtNameKeywords1\": \"abc\",\n",
    "    \"txtNameKeywords2\": \"\",\n",
    "    \"txtCompanyNumber\": \"\",\n",
    "    \"btnSearch.x\": 46,\n",
    "    \"btnSearch.y\": 12\n",
    "}\n",
    "obj1 = session.get(\"https://cado.eservices.gov.nl.ca/CadoInternet/Company/CompanyNameNumberSearch.aspx\",headers = header,data = payload)\n",
    "with open(\"home1.html\",\"wb\") as file:\n",
    "    file.write(obj1.content)"
   ]
  },
  {
   "cell_type": "code",
   "execution_count": null,
   "id": "c6482bba-bdb2-4b4f-b093-f8a11847a178",
   "metadata": {},
   "outputs": [],
   "source": []
  }
 ],
 "metadata": {
  "kernelspec": {
   "display_name": "Python 3 (ipykernel)",
   "language": "python",
   "name": "python3"
  },
  "language_info": {
   "codemirror_mode": {
    "name": "ipython",
    "version": 3
   },
   "file_extension": ".py",
   "mimetype": "text/x-python",
   "name": "python",
   "nbconvert_exporter": "python",
   "pygments_lexer": "ipython3",
   "version": "3.10.0"
  }
 },
 "nbformat": 4,
 "nbformat_minor": 5
}
