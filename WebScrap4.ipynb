{
 "cells": [
  {
   "cell_type": "code",
   "execution_count": null,
   "id": "1e6d5329-2c28-494b-957d-a748d5765e51",
   "metadata": {},
   "outputs": [],
   "source": [
    "import requests\n",
    "import re\n",
    "import pandas as pd\n",
    "\n",
    "session = requests.session()\n",
    "mainurl = \"https://www.fielmann.de/\"\n",
    "Homepage = session.get(mainurl)\n",
    "with open(\"mainpage.html\", \"w\", encoding=\"UTF-8\") as file :\n",
    "    file.write(Homepage.text)\n",
    "\n",
    "Nextpageurl = re.findall('class=\"content pointer-events-none\".*?>\\s+(.*?)\\s+<', Homepage.text)\n",
    "\n",
    "Mainurldata = [\"\"]\n",
    "for i in range(len(Mainurldata)):\n",
    "    Nextpageurldata = Nextpageurl[i].replace(\"ö\",\"o\").lower()\n",
    "    Mainurldata[i] = mainurl+Nextpageurldata\n",
    "\n",
    "categories_url_data = []\n",
    "\n",
    "for idx, url in enumerate(Mainurldata, start=1):\n",
    "    individual_page_data = session.get(url)\n",
    "    with open(f\"Individualpagedata{idx}.html\", \"w\", encoding=\"UTF-8\") as file:\n",
    "        file.write(individual_page_data.text)\n",
    "\n",
    "    categories_data = re.findall('active-class=\"font-medium\".*?><.*?<.*?>\\s+(.*?)\\s+<', individual_page_data.text)\n",
    "    for category in categories_data:\n",
    "        categories_url_data.append(url +\"/\"+ (category.replace(\" \",\"-\").lower()))\n",
    "\n",
    "dataframe=[]\n",
    "datacontent = []\n",
    "l=1\n",
    "for i in categories_url_data:\n",
    "    data = session.get(i)\n",
    "    with open(\"datacontent\"+str(l)+\".html\",\"w\",encoding=\"UTF-8\") as file:\n",
    "        file.write(data.text)\n",
    "    l += 1\n",
    "    datacontent = re.findall('class=\"leading-tight text-base font-medium uppercase\".*?>\\s+(.*?)\\s+<.*?class=\"leading-tight text-base\".*?>\\s+(.*?)\\s+<.*?class=\"leading-\\[1.2] text-\\[15px] mt-2 mb-2.5\".*?>\\s+(.*?)\\s+<.*?class=\"mr-1 text-base leading-\\[22px]\".*?>(.*?)<.*?class=\"text-base leading-\\[22px] ml-1\".*?>(.*?)<.*?class=\"flex justify-center text-xs\".*?>\\s+(.*?)\\s+<',data.text)\n",
    "\n",
    "df = pd.DataFrame(datacontent)\n",
    "df.to_csv(\"data.csv\",index=False)"
   ]
  },
  {
   "cell_type": "code",
   "execution_count": null,
   "id": "34c6a950-e12e-4bd3-918d-90a4528f6a43",
   "metadata": {},
   "outputs": [],
   "source": [
    "print(datacontent)"
   ]
  }
 ],
 "metadata": {
  "kernelspec": {
   "display_name": "Python 3 (ipykernel)",
   "language": "python",
   "name": "python3"
  },
  "language_info": {
   "codemirror_mode": {
    "name": "ipython",
    "version": 3
   },
   "file_extension": ".py",
   "mimetype": "text/x-python",
   "name": "python",
   "nbconvert_exporter": "python",
   "pygments_lexer": "ipython3",
   "version": "3.10.0"
  }
 },
 "nbformat": 4,
 "nbformat_minor": 5
}
